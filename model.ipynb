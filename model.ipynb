{
 "cells": [
  {
   "cell_type": "code",
   "execution_count": 1,
   "id": "6cc0897b",
   "metadata": {
    "_cell_guid": "b1076dfc-b9ad-4769-8c92-a6c4dae69d19",
    "_uuid": "8f2839f25d086af736a60e9eeb907d3b93b6e0e5",
    "execution": {
     "iopub.execute_input": "2023-11-27T16:49:42.377411Z",
     "iopub.status.busy": "2023-11-27T16:49:42.377101Z",
     "iopub.status.idle": "2023-11-27T16:49:51.277690Z",
     "shell.execute_reply": "2023-11-27T16:49:51.276829Z"
    },
    "papermill": {
     "duration": 8.90998,
     "end_time": "2023-11-27T16:49:51.280194",
     "exception": false,
     "start_time": "2023-11-27T16:49:42.370214",
     "status": "completed"
    },
    "tags": []
   },
   "outputs": [
    {
     "name": "stderr",
     "output_type": "stream",
     "text": [
      "/opt/conda/lib/python3.10/site-packages/scipy/__init__.py:146: UserWarning: A NumPy version >=1.16.5 and <1.23.0 is required for this version of SciPy (detected version 1.24.3\n",
      "  warnings.warn(f\"A NumPy version >={np_minversion} and <{np_maxversion}\"\n"
     ]
    }
   ],
   "source": [
    "import torch\n",
    "import torch.nn as nn\n",
    "import torch.optim as optim\n",
    "import torch.utils.data as data\n",
    "import numpy as np\n",
    "import pandas as pd\n",
    "from sklearn.model_selection import train_test_split\n",
    "from sklearn.preprocessing import LabelEncoder\n",
    "from torch.utils.data import DataLoader, TensorDataset"
   ]
  },
  {
   "cell_type": "code",
   "execution_count": 2,
   "id": "e87f4490",
   "metadata": {
    "execution": {
     "iopub.execute_input": "2023-11-27T16:49:51.293511Z",
     "iopub.status.busy": "2023-11-27T16:49:51.292819Z",
     "iopub.status.idle": "2023-11-27T16:50:04.420562Z",
     "shell.execute_reply": "2023-11-27T16:50:04.419395Z"
    },
    "papermill": {
     "duration": 13.13704,
     "end_time": "2023-11-27T16:50:04.423297",
     "exception": false,
     "start_time": "2023-11-27T16:49:51.286257",
     "status": "completed"
    },
    "tags": []
   },
   "outputs": [],
   "source": [
    "!cp -r ../input/features ../working"
   ]
  },
  {
   "cell_type": "code",
   "execution_count": 3,
   "id": "bdd5ebad",
   "metadata": {
    "execution": {
     "iopub.execute_input": "2023-11-27T16:50:04.437208Z",
     "iopub.status.busy": "2023-11-27T16:50:04.436839Z",
     "iopub.status.idle": "2023-11-27T16:50:05.419605Z",
     "shell.execute_reply": "2023-11-27T16:50:05.418624Z"
    },
    "papermill": {
     "duration": 0.992565,
     "end_time": "2023-11-27T16:50:05.422223",
     "exception": false,
     "start_time": "2023-11-27T16:50:04.429658",
     "status": "completed"
    },
    "tags": []
   },
   "outputs": [
    {
     "name": "stdout",
     "output_type": "stream",
     "text": [
      "__notebook__.ipynb  features\r\n"
     ]
    }
   ],
   "source": [
    "!ls"
   ]
  },
  {
   "cell_type": "code",
   "execution_count": 4,
   "id": "2ab6657a",
   "metadata": {
    "execution": {
     "iopub.execute_input": "2023-11-27T16:50:05.435092Z",
     "iopub.status.busy": "2023-11-27T16:50:05.434733Z",
     "iopub.status.idle": "2023-11-27T16:50:47.853913Z",
     "shell.execute_reply": "2023-11-27T16:50:47.852906Z"
    },
    "papermill": {
     "duration": 42.428184,
     "end_time": "2023-11-27T16:50:47.856210",
     "exception": false,
     "start_time": "2023-11-27T16:50:05.428026",
     "status": "completed"
    },
    "tags": []
   },
   "outputs": [
    {
     "name": "stdout",
     "output_type": "stream",
     "text": [
      "._features\r\n",
      "tar: Ignoring unknown extended header keyword 'LIBARCHIVE.xattr.com.apple.macl'\r\n",
      "features/\r\n",
      "features/._.DS_Store\r\n",
      "tar: Ignoring unknown extended header keyword 'LIBARCHIVE.xattr.com.apple.FinderInfo'\r\n",
      "features/.DS_Store\r\n",
      "features/._test_nf.npy\r\n",
      "tar: Ignoring unknown extended header keyword 'LIBARCHIVE.xattr.com.apple.quarantine'\r\n",
      "tar: Ignoring unknown extended header keyword 'LIBARCHIVE.xattr.com.apple.metadata:kMDItemWhereFroms'\r\n",
      "tar: Ignoring unknown extended header keyword 'LIBARCHIVE.xattr.com.apple.macl'\r\n",
      "features/test_nf.npy\r\n",
      "features/._test_ef.npy\r\n",
      "tar: Ignoring unknown extended header keyword 'LIBARCHIVE.xattr.com.apple.quarantine'\r\n",
      "tar: Ignoring unknown extended header keyword 'LIBARCHIVE.xattr.com.apple.metadata:kMDItemWhereFroms'\r\n",
      "tar: Ignoring unknown extended header keyword 'LIBARCHIVE.xattr.com.apple.macl'\r\n",
      "features/test_ef.npy\r\n",
      "features/._train_sf.npy\r\n",
      "tar: Ignoring unknown extended header keyword 'LIBARCHIVE.xattr.com.apple.macl'\r\n",
      "features/train_sf.npy\r\n",
      "features/._train_ef.npy\r\n",
      "tar: Ignoring unknown extended header keyword 'LIBARCHIVE.xattr.com.apple.quarantine'\r\n",
      "tar: Ignoring unknown extended header keyword 'LIBARCHIVE.xattr.com.apple.metadata:kMDItemWhereFroms'\r\n",
      "tar: Ignoring unknown extended header keyword 'LIBARCHIVE.xattr.com.apple.macl'\r\n",
      "features/train_ef.npy\r\n",
      "features/test_sf.npy\r\n",
      "features/._train_nf.npy\r\n",
      "tar: Ignoring unknown extended header keyword 'LIBARCHIVE.xattr.com.apple.quarantine'\r\n",
      "tar: Ignoring unknown extended header keyword 'LIBARCHIVE.xattr.com.apple.metadata:kMDItemWhereFroms'\r\n",
      "tar: Ignoring unknown extended header keyword 'LIBARCHIVE.xattr.com.apple.macl'\r\n",
      "features/train_nf.npy\r\n"
     ]
    }
   ],
   "source": [
    "!tar -xvzf features/features.tgz"
   ]
  },
  {
   "cell_type": "code",
   "execution_count": 5,
   "id": "012a46b4",
   "metadata": {
    "execution": {
     "iopub.execute_input": "2023-11-27T16:50:47.870959Z",
     "iopub.status.busy": "2023-11-27T16:50:47.870608Z",
     "iopub.status.idle": "2023-11-27T16:50:47.976158Z",
     "shell.execute_reply": "2023-11-27T16:50:47.975193Z"
    },
    "papermill": {
     "duration": 0.1157,
     "end_time": "2023-11-27T16:50:47.978211",
     "exception": false,
     "start_time": "2023-11-27T16:50:47.862511",
     "status": "completed"
    },
    "tags": []
   },
   "outputs": [
    {
     "name": "stdout",
     "output_type": "stream",
     "text": [
      "cuda:0\n"
     ]
    }
   ],
   "source": [
    "device = torch.device(\"cuda:0\" if torch.cuda.is_available() else \"cpu\")\n",
    "print(device)"
   ]
  },
  {
   "cell_type": "code",
   "execution_count": 6,
   "id": "f0ac3557",
   "metadata": {
    "execution": {
     "iopub.execute_input": "2023-11-27T16:50:47.992575Z",
     "iopub.status.busy": "2023-11-27T16:50:47.992233Z",
     "iopub.status.idle": "2023-11-27T16:50:48.006142Z",
     "shell.execute_reply": "2023-11-27T16:50:48.005236Z"
    },
    "papermill": {
     "duration": 0.023344,
     "end_time": "2023-11-27T16:50:48.008058",
     "exception": false,
     "start_time": "2023-11-27T16:50:47.984714",
     "status": "completed"
    },
    "tags": []
   },
   "outputs": [],
   "source": [
    "class Model(nn.Module):\n",
    "    def __init__(self, inp_dim_nf=4800, inp_dim_ef=60, inp_dim_sf=10000, out_dim=4):\n",
    "        super(Model, self).__init__()\n",
    "        out_dim_nf = 100\n",
    "        out_dim_ef = 50\n",
    "        out_dim_sf = 50\n",
    "        \n",
    "        # Neural network for input Neural Features\n",
    "        self.model_nf = nn.Sequential(\n",
    "            nn.Linear(inp_dim_nf, 500),\n",
    "            nn.Sigmoid(),\n",
    "            nn.Dropout(0.2),\n",
    "            nn.Linear(500, out_dim_nf),\n",
    "            nn.Sigmoid()\n",
    "        )\n",
    "\n",
    "        # Neural network for input External Features\n",
    "        self.model_ef = nn.Sequential(\n",
    "            nn.Linear(inp_dim_ef, out_dim_ef),\n",
    "            nn.ReLU()\n",
    "        )\n",
    "        \n",
    "        # Neural network for input Statistical Features\n",
    "        self.model_sf = nn.Sequential(\n",
    "            nn.Linear(inp_dim_sf, 500),\n",
    "            nn.ReLU(),\n",
    "            nn.Dropout(0.4),\n",
    "            nn.Linear(500, out_dim_sf),\n",
    "            nn.ReLU()\n",
    "        )\n",
    "\n",
    "        # Feature Combined model\n",
    "        self.fc = nn.Sequential(\n",
    "            nn.BatchNorm1d(out_dim_nf + out_dim_ef + out_dim_sf),\n",
    "            nn.Linear(out_dim_nf + out_dim_ef + out_dim_sf, out_dim),\n",
    "            nn.Softmax(dim=1)\n",
    "        )\n",
    "\n",
    "    def forward(self, x_nf, x_ef, x_sf):\n",
    "        h_nf = self.model_nf(x_nf)\n",
    "        h_ef = self.model_ef(x_ef)\n",
    "        h_sf = self.model_sf(x_sf)\n",
    "        \n",
    "        l2_reg_nf = torch.tensor(0.0).to(device)\n",
    "        for name, param in self.model_nf.named_parameters():\n",
    "            if 'weight' in name:\n",
    "                l2_reg_nf += torch.norm(param, p=2)\n",
    "        \n",
    "        l2_reg_sf = torch.tensor(0.0).to(device)\n",
    "        for name, param in self.model_sf.named_parameters():\n",
    "            if 'weight' in name:\n",
    "                l2_reg_sf += torch.norm(param, p=2)\n",
    "\n",
    "        # Concatenate the outputs\n",
    "        h = torch.cat((h_nf, h_ef, h_sf), dim=1)\n",
    "\n",
    "        # Final prediction\n",
    "        o = self.fc(h)\n",
    "\n",
    "        return o, l2_reg_nf, l2_reg_sf"
   ]
  },
  {
   "cell_type": "code",
   "execution_count": 7,
   "id": "aef718db",
   "metadata": {
    "execution": {
     "iopub.execute_input": "2023-11-27T16:50:48.021963Z",
     "iopub.status.busy": "2023-11-27T16:50:48.021680Z",
     "iopub.status.idle": "2023-11-27T16:50:52.191505Z",
     "shell.execute_reply": "2023-11-27T16:50:52.190495Z"
    },
    "papermill": {
     "duration": 4.179388,
     "end_time": "2023-11-27T16:50:52.193924",
     "exception": false,
     "start_time": "2023-11-27T16:50:48.014536",
     "status": "completed"
    },
    "tags": []
   },
   "outputs": [
    {
     "name": "stderr",
     "output_type": "stream",
     "text": [
      "/opt/conda/lib/python3.10/site-packages/sklearn/utils/validation.py:605: FutureWarning: is_sparse is deprecated and will be removed in a future version. Check `isinstance(dtype, pd.SparseDtype)` instead.\n",
      "  if is_sparse(pd_dtype):\n",
      "/opt/conda/lib/python3.10/site-packages/sklearn/utils/validation.py:614: FutureWarning: is_sparse is deprecated and will be removed in a future version. Check `isinstance(dtype, pd.SparseDtype)` instead.\n",
      "  if is_sparse(pd_dtype) or not is_extension_array_dtype(pd_dtype):\n"
     ]
    }
   ],
   "source": [
    "Xtr_nf = np.load('features/train_nf.npy')\n",
    "Xtr_ef = np.load('features/train_ef.npy')\n",
    "Xtr_sf = np.load('features/train_sf.npy')\n",
    "\n",
    "LE = LabelEncoder()\n",
    "\n",
    "df = pd.read_csv('../input/dataset/train.csv')\n",
    "targets = LE.fit_transform(df['Stance'])"
   ]
  },
  {
   "cell_type": "code",
   "execution_count": 8,
   "id": "8da3ca91",
   "metadata": {
    "execution": {
     "iopub.execute_input": "2023-11-27T16:50:52.209250Z",
     "iopub.status.busy": "2023-11-27T16:50:52.208400Z",
     "iopub.status.idle": "2023-11-27T16:50:52.216179Z",
     "shell.execute_reply": "2023-11-27T16:50:52.215324Z"
    },
    "papermill": {
     "duration": 0.017433,
     "end_time": "2023-11-27T16:50:52.218183",
     "exception": false,
     "start_time": "2023-11-27T16:50:52.200750",
     "status": "completed"
    },
    "tags": []
   },
   "outputs": [
    {
     "data": {
      "text/plain": [
       "((49972, 4800), (49972, 60), (49972, 10000), (49972,), numpy.ndarray)"
      ]
     },
     "execution_count": 8,
     "metadata": {},
     "output_type": "execute_result"
    }
   ],
   "source": [
    "Xtr_nf.shape, Xtr_ef.shape, Xtr_sf.shape, targets.shape, type(targets) "
   ]
  },
  {
   "cell_type": "code",
   "execution_count": 9,
   "id": "588a65ae",
   "metadata": {
    "execution": {
     "iopub.execute_input": "2023-11-27T16:50:52.233153Z",
     "iopub.status.busy": "2023-11-27T16:50:52.232853Z",
     "iopub.status.idle": "2023-11-27T16:50:53.152242Z",
     "shell.execute_reply": "2023-11-27T16:50:53.150936Z"
    },
    "papermill": {
     "duration": 0.929118,
     "end_time": "2023-11-27T16:50:53.154285",
     "exception": false,
     "start_time": "2023-11-27T16:50:52.225167",
     "status": "completed"
    },
    "tags": []
   },
   "outputs": [
    {
     "name": "stdout",
     "output_type": "stream",
     "text": [
      "<class 'torch.Tensor'> <class 'torch.Tensor'> torch.Size([49972])\n"
     ]
    }
   ],
   "source": [
    "Xtr_nf = torch.from_numpy(Xtr_nf).float()\n",
    "Xtr_ef = torch.from_numpy(Xtr_ef).float()\n",
    "Xtr_sf = torch.from_numpy(Xtr_sf).float()\n",
    "Ytr    = torch.from_numpy(targets)\n",
    "\n",
    "print(type(Xtr_nf), type(Ytr), Ytr.shape)"
   ]
  },
  {
   "cell_type": "code",
   "execution_count": 10,
   "id": "07cf1730",
   "metadata": {
    "execution": {
     "iopub.execute_input": "2023-11-27T16:50:53.169378Z",
     "iopub.status.busy": "2023-11-27T16:50:53.169067Z",
     "iopub.status.idle": "2023-11-27T16:50:53.174024Z",
     "shell.execute_reply": "2023-11-27T16:50:53.173230Z"
    },
    "papermill": {
     "duration": 0.014402,
     "end_time": "2023-11-27T16:50:53.175929",
     "exception": false,
     "start_time": "2023-11-27T16:50:53.161527",
     "status": "completed"
    },
    "tags": []
   },
   "outputs": [],
   "source": [
    "train_dataset = TensorDataset(Xtr_nf, Xtr_ef, Xtr_sf, Ytr)\n",
    "train_loader = DataLoader(train_dataset, batch_size=100, shuffle=True)"
   ]
  },
  {
   "cell_type": "code",
   "execution_count": 11,
   "id": "f1c71095",
   "metadata": {
    "execution": {
     "iopub.execute_input": "2023-11-27T16:50:53.190542Z",
     "iopub.status.busy": "2023-11-27T16:50:53.190265Z",
     "iopub.status.idle": "2023-11-27T16:50:58.644084Z",
     "shell.execute_reply": "2023-11-27T16:50:58.643030Z"
    },
    "papermill": {
     "duration": 5.463874,
     "end_time": "2023-11-27T16:50:58.646573",
     "exception": false,
     "start_time": "2023-11-27T16:50:53.182699",
     "status": "completed"
    },
    "tags": []
   },
   "outputs": [],
   "source": [
    "model = Model(inp_dim_nf=4800, inp_dim_ef=60, inp_dim_sf=10000, out_dim=4).to(device)\n",
    "loss_fn = nn.CrossEntropyLoss()\n",
    "optimizer = optim.Adam(model.parameters(), lr=0.001)"
   ]
  },
  {
   "cell_type": "code",
   "execution_count": 12,
   "id": "fd492511",
   "metadata": {
    "execution": {
     "iopub.execute_input": "2023-11-27T16:50:58.662635Z",
     "iopub.status.busy": "2023-11-27T16:50:58.662315Z",
     "iopub.status.idle": "2023-11-27T16:51:53.622788Z",
     "shell.execute_reply": "2023-11-27T16:51:53.621743Z"
    },
    "papermill": {
     "duration": 54.971246,
     "end_time": "2023-11-27T16:51:53.625374",
     "exception": false,
     "start_time": "2023-11-27T16:50:58.654128",
     "status": "completed"
    },
    "tags": []
   },
   "outputs": [
    {
     "name": "stdout",
     "output_type": "stream",
     "text": [
      "Epoch [1/10], Batch [100/500], Loss: 1.0111675536632538\n",
      "Epoch [1/10], Batch [200/500], Loss: 0.8401983833312988\n",
      "Epoch [1/10], Batch [300/500], Loss: 0.8273581355810166\n",
      "Epoch [1/10], Batch [400/500], Loss: 0.8179621762037277\n",
      "Epoch [1/10], Batch [500/500], Loss: 0.8089608383178711\n",
      "Epoch [2/10], Batch [100/500], Loss: 0.8000144249200821\n",
      "Epoch [2/10], Batch [200/500], Loss: 0.7954152232408523\n",
      "Epoch [2/10], Batch [300/500], Loss: 0.7949531894922256\n",
      "Epoch [2/10], Batch [400/500], Loss: 0.7948388642072678\n",
      "Epoch [2/10], Batch [500/500], Loss: 0.7893914806842804\n",
      "Epoch [3/10], Batch [100/500], Loss: 0.7845722031593323\n",
      "Epoch [3/10], Batch [200/500], Loss: 0.7813153177499771\n",
      "Epoch [3/10], Batch [300/500], Loss: 0.7816681468486786\n",
      "Epoch [3/10], Batch [400/500], Loss: 0.7826367312669754\n",
      "Epoch [3/10], Batch [500/500], Loss: 0.7848928779363632\n",
      "Epoch [4/10], Batch [100/500], Loss: 0.7787611782550812\n",
      "Epoch [4/10], Batch [200/500], Loss: 0.7785433787107467\n",
      "Epoch [4/10], Batch [300/500], Loss: 0.7768946146965027\n",
      "Epoch [4/10], Batch [400/500], Loss: 0.7798712617158889\n",
      "Epoch [4/10], Batch [500/500], Loss: 0.7771515345573425\n",
      "Epoch [5/10], Batch [100/500], Loss: 0.7743258857727051\n",
      "Epoch [5/10], Batch [200/500], Loss: 0.7781114464998246\n",
      "Epoch [5/10], Batch [300/500], Loss: 0.7751722526550293\n",
      "Epoch [5/10], Batch [400/500], Loss: 0.7694065129756927\n",
      "Epoch [5/10], Batch [500/500], Loss: 0.772215336561203\n",
      "Epoch [6/10], Batch [100/500], Loss: 0.7740355801582336\n",
      "Epoch [6/10], Batch [200/500], Loss: 0.7733969002962112\n",
      "Epoch [6/10], Batch [300/500], Loss: 0.7722190219163895\n",
      "Epoch [6/10], Batch [400/500], Loss: 0.7711176735162735\n",
      "Epoch [6/10], Batch [500/500], Loss: 0.7726384198665619\n",
      "Epoch [7/10], Batch [100/500], Loss: 0.7701219511032105\n",
      "Epoch [7/10], Batch [200/500], Loss: 0.7708671206235885\n",
      "Epoch [7/10], Batch [300/500], Loss: 0.7690415817499161\n",
      "Epoch [7/10], Batch [400/500], Loss: 0.769799389243126\n",
      "Epoch [7/10], Batch [500/500], Loss: 0.7758931708335877\n",
      "Epoch [8/10], Batch [100/500], Loss: 0.7690136975049973\n",
      "Epoch [8/10], Batch [200/500], Loss: 0.7717085689306259\n",
      "Epoch [8/10], Batch [300/500], Loss: 0.7709312641620636\n",
      "Epoch [8/10], Batch [400/500], Loss: 0.7689598959684372\n",
      "Epoch [8/10], Batch [500/500], Loss: 0.7717315876483917\n",
      "Epoch [9/10], Batch [100/500], Loss: 0.7685707741975785\n",
      "Epoch [9/10], Batch [200/500], Loss: 0.7707336753606796\n",
      "Epoch [9/10], Batch [300/500], Loss: 0.7704215896129608\n",
      "Epoch [9/10], Batch [400/500], Loss: 0.7685486394166946\n",
      "Epoch [9/10], Batch [500/500], Loss: 0.7689735114574432\n",
      "Epoch [10/10], Batch [100/500], Loss: 0.7677434295415878\n",
      "Epoch [10/10], Batch [200/500], Loss: 0.7689124989509583\n",
      "Epoch [10/10], Batch [300/500], Loss: 0.7651212471723556\n",
      "Epoch [10/10], Batch [400/500], Loss: 0.7695998913049698\n",
      "Epoch [10/10], Batch [500/500], Loss: 0.7683838456869125\n",
      "Finished Training\n"
     ]
    }
   ],
   "source": [
    "epochs = 10\n",
    "lambda_reg_nf = 0.00000001  # Lambda for neural features\n",
    "lambda_reg_sf = 0.00005  # Lambda for statistical features\n",
    "\n",
    "for epoch in range(epochs):\n",
    "    model.train()  # Set the model to train mode\n",
    "    \n",
    "    running_loss = 0.0\n",
    "    for i, data in enumerate(train_loader):\n",
    "        x_nf, x_ef, x_sf, y = data\n",
    "        x_nf, x_ef, x_sf, y = x_nf.to(device), x_ef.to(device), x_sf.to(device), y.to(device)\n",
    "        optimizer.zero_grad()\n",
    "        \n",
    "        outputs, l2_reg_nf, l2_reg_sf = model(x_nf, x_ef, x_sf)\n",
    "        classification_loss = loss_fn(outputs, y)\n",
    "        \n",
    "        # Compute regularization terms for neural and statistical features\n",
    "        loss_nf = lambda_reg_nf * l2_reg_nf\n",
    "        loss_sf = lambda_reg_sf * l2_reg_sf\n",
    "        \n",
    "        loss = classification_loss + loss_nf + loss_sf  # Add regularization terms to the loss\n",
    "        \n",
    "        loss.backward()\n",
    "        optimizer.step()\n",
    "            \n",
    "        running_loss += classification_loss.item()\n",
    "\n",
    "        # Print statistics every 'n' batches\n",
    "        n = 100  # Adjust this value as needed\n",
    "        if i % n == n - 1:  # Print every 'n' mini-batches\n",
    "            print(f\"Epoch [{epoch + 1}/{epochs}], Batch [{i + 1}/{len(train_loader)}], Loss: {running_loss / n}\")\n",
    "            running_loss = 0.0\n",
    "\n",
    "print('Finished Training')"
   ]
  },
  {
   "cell_type": "code",
   "execution_count": 13,
   "id": "2af9cf6e",
   "metadata": {
    "execution": {
     "iopub.execute_input": "2023-11-27T16:51:53.648705Z",
     "iopub.status.busy": "2023-11-27T16:51:53.648098Z",
     "iopub.status.idle": "2023-11-27T16:51:54.731393Z",
     "shell.execute_reply": "2023-11-27T16:51:54.730252Z"
    },
    "papermill": {
     "duration": 1.097327,
     "end_time": "2023-11-27T16:51:54.733713",
     "exception": false,
     "start_time": "2023-11-27T16:51:53.636386",
     "status": "completed"
    },
    "tags": []
   },
   "outputs": [],
   "source": [
    "!mkdir model"
   ]
  },
  {
   "cell_type": "code",
   "execution_count": 14,
   "id": "b1a253fa",
   "metadata": {
    "execution": {
     "iopub.execute_input": "2023-11-27T16:51:54.757105Z",
     "iopub.status.busy": "2023-11-27T16:51:54.756776Z",
     "iopub.status.idle": "2023-11-27T16:51:54.818835Z",
     "shell.execute_reply": "2023-11-27T16:51:54.817938Z"
    },
    "papermill": {
     "duration": 0.076483,
     "end_time": "2023-11-27T16:51:54.821225",
     "exception": false,
     "start_time": "2023-11-27T16:51:54.744742",
     "status": "completed"
    },
    "tags": []
   },
   "outputs": [],
   "source": [
    "# Save the trained model\n",
    "PATH = 'model/model.pth'\n",
    "torch.save(model.state_dict(), PATH)"
   ]
  },
  {
   "cell_type": "code",
   "execution_count": 15,
   "id": "391b605a",
   "metadata": {
    "execution": {
     "iopub.execute_input": "2023-11-27T16:51:54.845381Z",
     "iopub.status.busy": "2023-11-27T16:51:54.845052Z",
     "iopub.status.idle": "2023-11-27T16:51:54.932770Z",
     "shell.execute_reply": "2023-11-27T16:51:54.931899Z"
    },
    "papermill": {
     "duration": 0.102134,
     "end_time": "2023-11-27T16:51:54.934939",
     "exception": false,
     "start_time": "2023-11-27T16:51:54.832805",
     "status": "completed"
    },
    "tags": []
   },
   "outputs": [
    {
     "data": {
      "text/plain": [
       "<All keys matched successfully>"
      ]
     },
     "execution_count": 15,
     "metadata": {},
     "output_type": "execute_result"
    }
   ],
   "source": [
    "#loading the model\n",
    "model = Model(inp_dim_nf=4800, inp_dim_ef=60, inp_dim_sf=10000, out_dim=4).to(device)\n",
    "model.load_state_dict(torch.load('model/model.pth'))"
   ]
  },
  {
   "cell_type": "code",
   "execution_count": 16,
   "id": "8beaefcb",
   "metadata": {
    "execution": {
     "iopub.execute_input": "2023-11-27T16:51:54.959515Z",
     "iopub.status.busy": "2023-11-27T16:51:54.959173Z",
     "iopub.status.idle": "2023-11-27T16:51:56.908609Z",
     "shell.execute_reply": "2023-11-27T16:51:56.907665Z"
    },
    "papermill": {
     "duration": 1.965989,
     "end_time": "2023-11-27T16:51:56.912633",
     "exception": false,
     "start_time": "2023-11-27T16:51:54.946644",
     "status": "completed"
    },
    "tags": []
   },
   "outputs": [
    {
     "name": "stderr",
     "output_type": "stream",
     "text": [
      "/opt/conda/lib/python3.10/site-packages/sklearn/utils/validation.py:605: FutureWarning: is_sparse is deprecated and will be removed in a future version. Check `isinstance(dtype, pd.SparseDtype)` instead.\n",
      "  if is_sparse(pd_dtype):\n",
      "/opt/conda/lib/python3.10/site-packages/sklearn/utils/validation.py:614: FutureWarning: is_sparse is deprecated and will be removed in a future version. Check `isinstance(dtype, pd.SparseDtype)` instead.\n",
      "  if is_sparse(pd_dtype) or not is_extension_array_dtype(pd_dtype):\n"
     ]
    }
   ],
   "source": [
    "Xte_nf = np.load('features/test_nf.npy')\n",
    "Xte_ef = np.load('features/test_ef.npy')\n",
    "Xte_sf = np.load('features/test_sf.npy')\n",
    "\n",
    "df = pd.read_csv('../input/dataset/test.csv')\n",
    "targets = LE.transform(df['Stance'])"
   ]
  },
  {
   "cell_type": "code",
   "execution_count": 17,
   "id": "afaf06de",
   "metadata": {
    "execution": {
     "iopub.execute_input": "2023-11-27T16:51:56.937101Z",
     "iopub.status.busy": "2023-11-27T16:51:56.936787Z",
     "iopub.status.idle": "2023-11-27T16:51:57.404648Z",
     "shell.execute_reply": "2023-11-27T16:51:57.403304Z"
    },
    "papermill": {
     "duration": 0.482439,
     "end_time": "2023-11-27T16:51:57.406776",
     "exception": false,
     "start_time": "2023-11-27T16:51:56.924337",
     "status": "completed"
    },
    "tags": []
   },
   "outputs": [
    {
     "name": "stdout",
     "output_type": "stream",
     "text": [
      "<class 'torch.Tensor'> <class 'torch.Tensor'> torch.Size([25413])\n"
     ]
    }
   ],
   "source": [
    "Xte_nf = torch.from_numpy(Xte_nf).float()\n",
    "Xte_ef = torch.from_numpy(Xte_ef).float()\n",
    "Xte_sf = torch.from_numpy(Xte_sf).float()\n",
    "Yte    = torch.from_numpy(targets)\n",
    "\n",
    "print(type(Xte_nf), type(Yte), Yte.shape)"
   ]
  },
  {
   "cell_type": "code",
   "execution_count": 18,
   "id": "975af80b",
   "metadata": {
    "execution": {
     "iopub.execute_input": "2023-11-27T16:51:57.431628Z",
     "iopub.status.busy": "2023-11-27T16:51:57.431328Z",
     "iopub.status.idle": "2023-11-27T16:51:57.436026Z",
     "shell.execute_reply": "2023-11-27T16:51:57.435182Z"
    },
    "papermill": {
     "duration": 0.01915,
     "end_time": "2023-11-27T16:51:57.437864",
     "exception": false,
     "start_time": "2023-11-27T16:51:57.418714",
     "status": "completed"
    },
    "tags": []
   },
   "outputs": [],
   "source": [
    "test_dataset = TensorDataset(Xte_nf, Xte_ef, Xte_sf, Yte)\n",
    "test_loader = DataLoader(test_dataset, batch_size=100, shuffle=True)"
   ]
  },
  {
   "cell_type": "code",
   "execution_count": 19,
   "id": "66031109",
   "metadata": {
    "execution": {
     "iopub.execute_input": "2023-11-27T16:51:57.462329Z",
     "iopub.status.busy": "2023-11-27T16:51:57.462040Z",
     "iopub.status.idle": "2023-11-27T16:51:57.467501Z",
     "shell.execute_reply": "2023-11-27T16:51:57.466745Z"
    },
    "papermill": {
     "duration": 0.019749,
     "end_time": "2023-11-27T16:51:57.469435",
     "exception": false,
     "start_time": "2023-11-27T16:51:57.449686",
     "status": "completed"
    },
    "tags": []
   },
   "outputs": [
    {
     "data": {
      "text/plain": [
       "255"
      ]
     },
     "execution_count": 19,
     "metadata": {},
     "output_type": "execute_result"
    }
   ],
   "source": [
    "len(test_loader)"
   ]
  },
  {
   "cell_type": "code",
   "execution_count": 20,
   "id": "4d8f31df",
   "metadata": {
    "execution": {
     "iopub.execute_input": "2023-11-27T16:51:57.493548Z",
     "iopub.status.busy": "2023-11-27T16:51:57.493259Z",
     "iopub.status.idle": "2023-11-27T16:51:59.818375Z",
     "shell.execute_reply": "2023-11-27T16:51:59.817181Z"
    },
    "papermill": {
     "duration": 2.339774,
     "end_time": "2023-11-27T16:51:59.820660",
     "exception": false,
     "start_time": "2023-11-27T16:51:57.480886",
     "status": "completed"
    },
    "tags": []
   },
   "outputs": [
    {
     "name": "stdout",
     "output_type": "stream",
     "text": [
      "Classification Report:\n",
      "              precision    recall  f1-score   support\n",
      "\n",
      "       agree       0.48      0.41      0.44      1903\n",
      "    disagree       0.00      0.00      0.00       697\n",
      "     discuss       0.71      0.75      0.73      4464\n",
      "   unrelated       0.95      0.99      0.97     18349\n",
      "\n",
      "    accuracy                           0.88     25413\n",
      "   macro avg       0.54      0.54      0.54     25413\n",
      "weighted avg       0.85      0.88      0.86     25413\n",
      "\n"
     ]
    },
    {
     "name": "stderr",
     "output_type": "stream",
     "text": [
      "/opt/conda/lib/python3.10/site-packages/sklearn/metrics/_classification.py:1344: UndefinedMetricWarning: Precision and F-score are ill-defined and being set to 0.0 in labels with no predicted samples. Use `zero_division` parameter to control this behavior.\n",
      "  _warn_prf(average, modifier, msg_start, len(result))\n",
      "/opt/conda/lib/python3.10/site-packages/sklearn/metrics/_classification.py:1344: UndefinedMetricWarning: Precision and F-score are ill-defined and being set to 0.0 in labels with no predicted samples. Use `zero_division` parameter to control this behavior.\n",
      "  _warn_prf(average, modifier, msg_start, len(result))\n",
      "/opt/conda/lib/python3.10/site-packages/sklearn/metrics/_classification.py:1344: UndefinedMetricWarning: Precision and F-score are ill-defined and being set to 0.0 in labels with no predicted samples. Use `zero_division` parameter to control this behavior.\n",
      "  _warn_prf(average, modifier, msg_start, len(result))\n"
     ]
    },
    {
     "data": {
      "image/png": "[encoded data removed]",
      "text/plain": [
       "<Figure size 800x600 with 2 Axes>"
      ]
     },
     "metadata": {},
     "output_type": "display_data"
    },
    {
     "name": "stdout",
     "output_type": "stream",
     "text": [
      "Accuracy: 0.8783299885885177\n",
      "Average L2 regularization for Neural Features: 0.8700013974103858\n",
      "Average L2 regularization for Statistical Features: 0.8943958437832592\n"
     ]
    }
   ],
   "source": [
    "from sklearn.metrics import confusion_matrix, classification_report, accuracy_score\n",
    "import seaborn as sns\n",
    "import matplotlib.pyplot as plt\n",
    "\n",
    "model.eval()  # Set the model to evaluation mode\n",
    "\n",
    "y_true = []\n",
    "y_pred = []\n",
    "class_labels = ['agree', 'disagree', 'discuss', 'unrelated']\n",
    "l2_reg_nf_total = 0.0\n",
    "l2_reg_sf_total = 0.0\n",
    "\n",
    "with torch.no_grad():\n",
    "    for data in test_loader:  # Assuming you have a test dataloader\n",
    "        x_nf, x_ef, x_sf, y = data\n",
    "        x_nf, x_ef, x_sf, y = x_nf.to(device), x_ef.to(device), x_sf.to(device), y.to(device)\n",
    "        \n",
    "        out, l2_reg_nf, l2_reg_sf = model(x_nf, x_ef, x_sf)\n",
    "        \n",
    "        _, pred = torch.max(out, 1)\n",
    "        \n",
    "        y_pred.extend(pred.tolist())\n",
    "        y_true.extend(y.tolist())\n",
    "        \n",
    "        l2_reg_nf_total += l2_reg_nf.item()\n",
    "        l2_reg_sf_total += l2_reg_sf.item()\n",
    "\n",
    "# Calculate metrics\n",
    "print(\"Classification Report:\")\n",
    "print(classification_report(y_true, y_pred, target_names=class_labels))\n",
    "\n",
    "cm_test = confusion_matrix(y_true, y_pred)\n",
    "\n",
    "plt.figure(figsize=(8, 6))\n",
    "sns.heatmap(cm_test, annot=True, fmt='d', cmap='Blues', xticklabels=class_labels, yticklabels=class_labels)\n",
    "plt.xlabel('Predicted')\n",
    "plt.ylabel('True')\n",
    "plt.title('Confusion Matrix (Test Set)')\n",
    "plt.show()\n",
    "\n",
    "accuracy = accuracy_score(y_true, y_pred)\n",
    "print(f\"Accuracy: {accuracy}\")\n",
    "\n",
    "# Average L2 regularization terms across the test set\n",
    "avg_l2_reg_nf = l2_reg_nf_total / len(test_loader.dataset)\n",
    "avg_l2_reg_sf = l2_reg_sf_total / len(test_loader.dataset)\n",
    "\n",
    "print(f\"Average L2 regularization for Neural Features: {avg_l2_reg_nf}\")\n",
    "print(f\"Average L2 regularization for Statistical Features: {avg_l2_reg_sf}\")"
   ]
  },
  {
   "cell_type": "code",
   "execution_count": 21,
   "id": "5c9ec796",
   "metadata": {
    "execution": {
     "iopub.execute_input": "2023-11-27T16:51:59.850013Z",
     "iopub.status.busy": "2023-11-27T16:51:59.849638Z",
     "iopub.status.idle": "2023-11-27T16:51:59.880031Z",
     "shell.execute_reply": "2023-11-27T16:51:59.879013Z"
    },
    "papermill": {
     "duration": 0.047273,
     "end_time": "2023-11-27T16:51:59.882104",
     "exception": false,
     "start_time": "2023-11-27T16:51:59.834831",
     "status": "completed"
    },
    "tags": []
   },
   "outputs": [
    {
     "data": {
      "text/plain": [
       "0.5859286523216308"
      ]
     },
     "execution_count": 21,
     "metadata": {},
     "output_type": "execute_result"
    }
   ],
   "source": [
    "accuracy_related_unrelated = accuracy_score([i for i in y_true if i != 3], [i for idx, i in enumerate(y_pred) if y_true[idx] != 3])\n",
    "Score1 = accuracy_related_unrelated\n",
    "\n",
    "accuracy_agree_disagree_discuss = accuracy_score([i for i in y_true if i != 3], [i for idx, i in enumerate(y_pred) if y_true[idx] != 3])\n",
    "Score2 = accuracy_agree_disagree_discuss\n",
    "\n",
    "ScoreFNC = 0.25 * Score1 + 0.75 * Score2\n",
    "ScoreFNC"
   ]
  },
  {
   "cell_type": "code",
   "execution_count": null,
   "id": "4653816d",
   "metadata": {
    "papermill": {
     "duration": 0.01357,
     "end_time": "2023-11-27T16:51:59.909618",
     "exception": false,
     "start_time": "2023-11-27T16:51:59.896048",
     "status": "completed"
    },
    "tags": []
   },
   "outputs": [],
   "source": []
  }
 ],
 "metadata": {
  "kaggle": {
   "accelerator": "nvidiaTeslaT4",
   "dataSources": [
    {
     "datasetId": 4032013,
     "sourceId": 7012631,
     "sourceType": "datasetVersion"
    },
    {
     "datasetId": 4032086,
     "sourceId": 7012778,
     "sourceType": "datasetVersion"
    }
   ],
   "dockerImageVersionId": 30587,
   "isGpuEnabled": true,
   "isInternetEnabled": true,
   "language": "python",
   "sourceType": "notebook"
  },
  "kernelspec": {
   "display_name": "Python 3",
   "language": "python",
   "name": "python3"
  },
  "language_info": {
   "codemirror_mode": {
    "name": "ipython",
    "version": 3
   },
   "file_extension": ".py",
   "mimetype": "text/x-python",
   "name": "python",
   "nbconvert_exporter": "python",
   "pygments_lexer": "ipython3",
   "version": "3.10.12"
  },
  "papermill": {
   "default_parameters": {},
   "duration": 145.47949,
   "end_time": "2023-11-27T16:52:03.155493",
   "environment_variables": {},
   "exception": null,
   "input_path": "__notebook__.ipynb",
   "output_path": "__notebook__.ipynb",
   "parameters": {},
   "start_time": "2023-11-27T16:49:37.676003",
   "version": "2.4.0"
  }
 },
 "nbformat": 4,
 "nbformat_minor": 5
}
